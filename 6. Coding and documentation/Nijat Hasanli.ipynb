{
  "nbformat": 4,
  "nbformat_minor": 0,
  "metadata": {
    "colab": {
      "private_outputs": true,
      "provenance": [],
      "toc_visible": true
    },
    "kernelspec": {
      "name": "python3",
      "display_name": "Python 3"
    },
    "language_info": {
      "name": "python"
    }
  },
  "cells": [
    {
      "cell_type": "code",
      "source": [
        "import pandas as pd\n",
        "\n",
        "# Import task data\n",
        "task_data = pd.read_csv(\"Data\\\\onet_tasks.csv\")\n",
        "task_data[\"isco08_1dig\"] = task_data[\"isco08\"].astype(str).str[:1].astype(int)\n",
        "aggdata = task_data.groupby([\"isco08_1dig\"]).mean()\n",
        "aggdata = aggdata.drop(columns=[\"isco08\"])\n",
        "\n",
        "# Import employment data for Belgium, Spain, and Poland\n",
        "countries = [\"Belgium\", \"Spain\", \"Poland\"]\n",
        "employment_data = pd.concat([pd.read_excel(\"Data\\\\Eurostat_employment_isco.xlsx\", sheet_name=f\"ISCO{i}\") for i in range(1, 10)])\n",
        "total_employment = employment_data[countries].sum(axis=1)\n",
        "\n",
        "# Merge employment and task data\n",
        "merged_data = pd.merge(employment_data, aggdata, left_on=\"isco08\", right_index=True, how=\"left\")\n",
        "merged_data[\"total_employment\"] = total_employment\n",
        "merged_data[countries] = merged_data[countries].div(merged_data[\"total_employment\"], axis=0)\n",
        "\n",
        "# Calculate intensity score\n",
        "intensity_score = merged_data[\"data_value\"] * merged_data[countries].mean(axis=1)\n",
        "intensity_score = intensity_score.reset_index().rename(columns={\"isco08_1dig\": \"Occupation\"}).groupby(\"Occupation\")[\"data_value\"].sum()\n"
      ],
      "metadata": {
        "id": "Y_NMlHlNtuf2"
      },
      "execution_count": null,
      "outputs": []
    }
  ]
}