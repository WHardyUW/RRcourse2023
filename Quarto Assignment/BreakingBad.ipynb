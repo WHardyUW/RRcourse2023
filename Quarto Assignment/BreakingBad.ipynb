{
  "cells": [
    {
      "cell_type": "raw",
      "metadata": {},
      "source": [
        "---\n",
        "title: \"Breaking Bad\"\n",
        "author: \"Maciek Staniszewski\"\n",
        "date: \"4/13/2023\"\n",
        "format: html\n",
        "execute:\n",
        "  echo: fenced\n",
        "---"
      ],
      "id": "f07af48c"
    },
    {
      "cell_type": "markdown",
      "metadata": {},
      "source": [
        "# ASSIGNMENT\n",
        "\n",
        "Pick a TV show that had its premieres on TV and thus has some viewership numbers reported on Wikipedia. E.g. [Suits](https://en.wikipedia.org/wiki/List_of_Suits_episodes) (see table just above the References)\n",
        "\n",
        "Then create a short report (you can copy the content from Wikipedia or other pages for this task) that contains, for example:\n",
        "\n",
        "(do a commit after each step!)\n",
        "\n",
        "1.  A brief description of the show (use *italics* for names).\n",
        "2.  A photo with the logo or a shot from the show itself.\n",
        "3.  A summary of some basic statistics (e.g. on viewership or ratings).\n",
        "4.  A graph of the viewership over time.\n",
        "5.  A graph of the episode-to-episode (or season-to-season) changes in viewership.\n",
        "6.  A short description of the observed changes that includes inline references to numbers (e.g. the viewership decreased by `insert_calculated_number` between seasons 3 and 5).\n",
        "7.  Make sure your report looks nice -\\> this time we're mostly interested in the output and not necessarily the codes used to achieve it.\n",
        "8.  `render` your report and save it in the relevant folder of your repo.\n",
        "9.  Commit the changes and push them to Github.\n",
        "\n",
        "# Breaking Bad\n",
        "\n",
        "*Breaking Bad* is an American neo-Western crime drama television series created and produced by Vince Gilligan for AMC. Set and filmed in **Albuquerque, New Mexico**, the series follows Walter White (Bryan Cranston), an underpaid, overqualified, and dispirited high-school chemistry teacher who is struggling with a recent diagnosis of stage-three lung cancer.\n",
        "\n",
        "# Logo\n",
        "\n",
        "Logo taken from Wikipedia, scaled:\n",
        "\n",
        "![Breaking Bad Logo](Breaking_Bad_logo.png){width=\"60%\"}\n",
        "\n",
        "# Summary of Ratings\n",
        "\n",
        "To produce python plots we first need to install relevant packages using `pip`.\n"
      ],
      "id": "4de7f771"
    },
    {
      "cell_type": "code",
      "metadata": {},
      "source": [
        "import subprocess\n",
        "import sys\n",
        "\n",
        "def install(package):\n",
        "    subprocess.check_call([sys.executable, \"-m\", \"pip\", \"install\", package])\n",
        "\n",
        "install(\"pandas\")\n",
        "install(\"seaborn\")\n",
        "install(\"matplotlib\")"
      ],
      "id": "e3b24510",
      "execution_count": null,
      "outputs": []
    },
    {
      "cell_type": "markdown",
      "metadata": {},
      "source": [
        "Different *Breaking Bad* seasons received different ratings. Data from *Rotten Tomatoes* taken from Wikipedia is presented below:\n"
      ],
      "id": "d14447ea"
    },
    {
      "cell_type": "code",
      "metadata": {},
      "source": [
        "import pandas as pd\n",
        "import seaborn as sns\n",
        "import matplotlib.pyplot as plt\n",
        "\n",
        "# Load reviews from a static csv file\n",
        "reviews = pd.read_csv('reviews.csv', sep='\\t')\n",
        "\n",
        "# Create a bar plot\n",
        "ax = reviews[[\"Rotten Tomatoes Score\"]].plot(kind='bar', title =\"Rotten Tomatoes Score\", figsize=(15, 10), legend=True, fontsize=12)\n",
        "\n",
        "# Set axis labels\n",
        "ax.set_xlabel(\"Score\", fontsize=12)\n",
        "ax.set_ylabel(\"Rotten Tomatoes Score\", fontsize=12)\n",
        "\n",
        "# Show the plot\n",
        "plt.show()"
      ],
      "id": "4ab0cf8f",
      "execution_count": null,
      "outputs": []
    }
  ],
  "metadata": {
    "kernelspec": {
      "display_name": "Python 3",
      "language": "python",
      "name": "python3"
    }
  },
  "nbformat": 4,
  "nbformat_minor": 5
}