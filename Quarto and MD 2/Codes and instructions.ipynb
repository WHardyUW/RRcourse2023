{
  "cells": [
    {
      "cell_type": "markdown",
      "metadata": {},
      "source": [
        "# Quarto #2\n",
        "# YAML, rendering and parameters\n",
        "# Reproducible Research 2023\n",
        "# Wojciech Hardy\n",
        "\n",
        "library(quarto)\n",
        "\n",
        "setwd(\"\")\n",
        "\n",
        "# Converting from Rmd to Qmd\n",
        "\n",
        "## Step 1) \n",
        "knitr::convert_chunk_header(input = \"RMD_class_1_cut.Rmd\", \n",
        "                            output = \"QMD_class_1_cut.qmd\")\n",
        "\n",
        "## Step 2)\n",
        "readLines(\"QMD_class_1_cut.qmd\")[1:5]\n",
        "\n",
        "readLines(\"QMD_class_1_cut.qmd\") %>%\n",
        "  stringr::str_replace(\n",
        "    pattern = \"output: html_document\", \n",
        "    replace = \"format: html\") %>%\n",
        "  writeLines(con = \"QMD_class_1_cut.qmd\")\n",
        "\n",
        "readLines(\"QMD_class_1_cut.qmd\")[1:5]\n",
        "\n",
        "# Launching a preview mode\n",
        "sys::exec_wait(\"quarto preview QMD_class_2.qmd\")\n",
        "\n",
        "# To create a PDF file you need a TeX installation:\n",
        "sys::exec_wait(\"quarto install tinytex\")\n",
        "\n",
        "# Rendering\n",
        "library(quarto)\n",
        "\n",
        "quarto_render(\"QMD_class_1_cut.qmd\", output_format = \"docx\")"
      ]
    }
  ],
  "metadata": {
    "kernelspec": {
      "display_name": "Python 3",
      "language": "python",
      "name": "python3"
    }
  },
  "nbformat": 4,
  "nbformat_minor": 4
}