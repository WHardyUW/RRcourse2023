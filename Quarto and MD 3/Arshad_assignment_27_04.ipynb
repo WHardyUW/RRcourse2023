{
  "cells": [
    {
      "cell_type": "raw",
      "metadata": {},
      "source": [
        "---\n",
        "title: \"Assignment 27.04\"\n",
        "format: html\n",
        "editor: visual\n",
        "---"
      ],
      "id": "4b4d506c"
    },
    {
      "cell_type": "markdown",
      "metadata": {},
      "source": [
        "import pandas as pd\n",
        "\n",
        "def inputdata(n):\n",
        "  df=pd.read_csv(\"../Data/season_{a}.csv\".format(a=n))\n",
        "  return df\n"
      ],
      "id": "253ff41d"
    }
  ],
  "metadata": {
    "kernelspec": {
      "name": "python3",
      "language": "python",
      "display_name": "Python 3 (ipykernel)"
    }
  },
  "nbformat": 4,
  "nbformat_minor": 5
}